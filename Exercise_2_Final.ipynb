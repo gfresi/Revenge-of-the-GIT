{
 "cells": [
  {
   "cell_type": "markdown",
   "metadata": {},
   "source": [
    "# Exercise 2"
   ]
  },
  {
   "cell_type": "markdown",
   "metadata": {},
   "source": [
    "## Importierung der Programmbibliotheken"
   ]
  },
  {
   "cell_type": "markdown",
   "metadata": {},
   "source": [
    "Die ```csv``` Programmbibliothek ermöglicht das Nutzen von Funktionen, die das Bearbeiten von CSV Dateien erleichtert.  \n",
    "Die ```json``` Programmbibliothek ermöglicht das Nutzen von Funktionen, die das Bearbeiten von .json Dateien erleichtert.  "
   ]
  },
  {
   "cell_type": "code",
   "execution_count": 1,
   "metadata": {},
   "outputs": [],
   "source": [
    "import csv \n",
    "import json"
   ]
  },
  {
   "cell_type": "markdown",
   "metadata": {},
   "source": [
    "## CSV zu JSON\n",
    "\n",
    "```csvfilepath``` ist die csv, die in eine .json Datei umgewandelt werden soll.  \n",
    "```jsonfilepath``` ist noch die zu erstellende Datei, die die Daten der CSV enthält.  \n",
    "```with open``` dient zum Einlesen der CSV Datei.  \n",
    "Der Inhalt der CSV wird Zeile für Zeile ausgelesen und da sich die Art der Speicherstruktur ändert, bekommt jeder Datensatz einen Namen, welcher seiner ID entspricht.  \n",
    "Die neue Speicherstruktur ist ein ```dictionary```.  \n",
    "Die CSV Datei wird als ```dictionary``` eingelesen. Diese Dictionaries werden einem neuen ```dictionary``` als Value eingefügt und die ID als ```key``` hinzugefügt.  \n",
    "Um die neue erschaffene Datenstruktur in eine .json Datei zu speichern, öffnen (erschaffen, falls nicht vorhanden) wir eine neue .json Datei im Schreibmodus und schreiben mithilfe der ```write``` und ```dump``` Funktion unser dictionary in die Datei. Die Übergabeparamerter sind data und indent=4. Data ist unser ```dictionary```. ```indent=4``` sorgt dafür, dass die json Datei in einer übersichtlichen Syntax abgespeichert wird."
   ]
  },
  {
   "cell_type": "code",
   "execution_count": 2,
   "metadata": {},
   "outputs": [],
   "source": [
    "csvFilePath = \"lotr_clean_clean.csv\"\n",
    "jsonFilePath = \"lotr_clean.json\"\n",
    "\n",
    "\n",
    "\n",
    "data = {}\n",
    "with open(csvFilePath) as csvFile:\n",
    "    csvReader = csv.DictReader(csvFile,delimiter = ';')\n",
    "\n",
    "\n",
    "\n",
    "\n",
    "\n",
    "    for csvRow in csvReader:\n",
    "            ID = csvRow[\"ID\"]\n",
    "            data[ID] = csvRow\n",
    "\n",
    "\n",
    "\n",
    "\n",
    "\n",
    "\n",
    "with open(jsonFilePath, 'w') as jsonFile:\n",
    "    jsonFile.write(json.dumps(data,indent=4))"
   ]
  },
  {
   "cell_type": "markdown",
   "metadata": {},
   "source": [
    "## JSON zu CSV"
   ]
  },
  {
   "cell_type": "markdown",
   "metadata": {},
   "source": [
    "Die ersten beiden Anweisungen öffnen die json Datei und laden mithilfe des ```json.load``` Funktion  die Datensätze und laden diese in eine Variable.  \n",
    "Die Schleife geht den eingelesen Datensatz Schritt für Schritt durch. Dabei wird bei jedem Durchgang der Schleife eine neue Schleife aktiviert, die ebenfalls das ```dictionary``` im ```dictionary``` durchgeht.  \n",
    "Wenn das Dictionary im Dictionary, dessen ```dictionary=genre``` keine leere Liste enthält, dann wird die Liste an eine andere Liste angehangen.  \n",
    "Wenn alle nicht leeren Listen eines Jahres einander gehangen worden sind, dann wird aus der Liste eine Variable ```z``` gemacht und wieder eine Liste erzeugt. Dies führt dazu, dass jedes ```genre``` in der Liste einzigartig vorkommt. In einer Schleife wird dann dies durchgeführt und die eigentliche Liste wird von der neu erschaffenen Liste durchsucht und nacheinander werden die Ergebnisse an einer anderen Liste angehangen.  \n",
    "Die Ergebnisse geben an, wie oft dieses in der Liste vorkam. Die Ergebnisliste wird in einer anderen Liste angehangen, an dessen Spitze die Jahresanzahl steht. Diese letzte Liste ist die einzige Liste, welches nicht zurückgesetzt wird.  \n",
    "Die Variable ```h``` ist ein io.TextIOWrapper (object).  \n",
    "Dieses hat die Funktion ```h.write```. Mit dieser kann der Text in Dateien geschrieben werden.  \n",
    "Für die Anwendung werden die ```genres``` in richtiger Reihenfolge in die erste Zeile geschrieben. (Der erste Feldname ist die Jahresanzahl, alle Einträge sind durch \",\" getrennt.  \n",
    "Dann werden die Ergebnisse Jahr für Jahr durchgegangen und mit Kommas getrennt, dann in die Datei geschrieben und der letze Eintrag hat dann kein Komma.  \n",
    "Sobald eine Zeile in ein Dokument geschrieben wurde, wird ein Absatz erzeugt und sobald alle Zeilen in dem Dokument vorhanden sind, wird das Dokument am Ende geschlossen."
   ]
  },
  {
   "cell_type": "code",
   "execution_count": 3,
   "metadata": {},
   "outputs": [],
   "source": [
    "a = open(\"daten.json\",\"r\")\n",
    "\n",
    "b = json.load(a)\n",
    "\n",
    "g = []\n",
    "\n",
    "\n",
    "\n",
    "for i in b:\n",
    "\n",
    "\n",
    "    e = []\n",
    "    f = []\n",
    "   \n",
    " \n",
    "    for y in (b[i]):\n",
    "\n",
    "        if (b[i][y][\"genre\"]) != [\"\"]:\n",
    "\n",
    "\n",
    "            for x in (b[i][y][\"genre\"]):\n",
    "                e.append(x)\n",
    "\n",
    "    for z in list(set(e)):\n",
    " \n",
    "        f.append(e.count(z))\n",
    "\n",
    "\n",
    "    g.append([int(i)] + f)\n",
    "\n",
    "\n",
    "    \n",
    "    \n",
    "h = open(\"Film.csv\",\"w\")\n",
    "\n",
    "h.write(\"Year,Action,Adventure,Animation,Biography,Comedy,Crime,Documentary,Drama,Family,\")\n",
    "h.write(\"Fantasy,Film-Noir,Game-Show,History,Horror,Music,Musical,Mystery,News,Reality-TV,Romance,Sci-Fi,Short,\")\n",
    "h.write(\"Sport,Talk-Show,Thriller,War,Western\\n\")\n",
    "\n",
    "\n",
    "\n",
    "for i in g:\n",
    "\n",
    "    for y in range(len(i)):\n",
    "\n",
    "        if y == (len(i)-1): \n",
    "            h.write(str(i[y]))\n",
    "        else:\n",
    "            h.write(str(i[y])+\",\")\n",
    "\n",
    "\n",
    "\n",
    "    h.write(\"\\n\")\n",
    "\n",
    "\n",
    "    \n",
    "h.close()\n",
    "\n"
   ]
  }
 ],
 "metadata": {
  "kernelspec": {
   "display_name": "Python 3",
   "language": "python",
   "name": "python3"
  },
  "language_info": {
   "codemirror_mode": {
    "name": "ipython",
    "version": 3
   },
   "file_extension": ".py",
   "mimetype": "text/x-python",
   "name": "python",
   "nbconvert_exporter": "python",
   "pygments_lexer": "ipython3",
   "version": "3.7.6"
  }
 },
 "nbformat": 4,
 "nbformat_minor": 4
}
